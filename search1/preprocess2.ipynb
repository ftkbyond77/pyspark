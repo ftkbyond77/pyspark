{
 "cells": [
  {
   "cell_type": "code",
   "execution_count": null,
   "id": "13203a76",
   "metadata": {},
   "outputs": [],
   "source": [
    "import os, django\n",
    "os.environ.setdefault('DJANGO_SETTINGS_MODULE', 'imdb_project.settings')\n",
    "django.setup()"
   ]
  },
  {
   "cell_type": "code",
   "execution_count": null,
   "id": "863b49ed",
   "metadata": {},
   "outputs": [],
   "source": [
    "from load_data import load_imdb_data\n",
    "load_imdb_data(clear_existing=False)"
   ]
  }
 ],
 "metadata": {
  "language_info": {
   "name": "python"
  }
 },
 "nbformat": 4,
 "nbformat_minor": 5
}
