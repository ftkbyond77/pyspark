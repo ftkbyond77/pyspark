{
 "cells": [
  {
   "cell_type": "code",
   "execution_count": null,
   "id": "0cc71583",
   "metadata": {},
   "outputs": [],
   "source": [
    "# Cell 1: Import libraries and configure Django\n",
    "import os\n",
    "import sys\n",
    "import django\n",
    "import pandas as pd\n",
    "import numpy as np\n",
    "import matplotlib.pyplot as plt\n",
    "import seaborn as sns\n",
    "\n",
    "# Configure Django settings\n",
    "os.environ.setdefault('DJANGO_SETTINGS_MODULE', 'imdb_project.settings')\n",
    "django.setup()\n",
    "\n",
    "from movies.models import Movie\n",
    "\n",
    "# Cell 2: Load data from SQLite into a pandas DataFrame\n",
    "def load_data_to_dataframe():\n",
    "    try:\n",
    "        # Query all Movie objects\n",
    "        movies = Movie.objects.all()\n",
    "        # Convert to a list of dictionaries\n",
    "        data = []\n",
    "        for movie in movies:\n",
    "            data.append({\n",
    "                'series_title': movie.series_title,\n",
    "                'released_year': movie.released_year,\n",
    "                'runtime': movie.runtime,\n",
    "                'genre': movie.genre,\n",
    "                'rating': movie.rating,\n",
    "                'overview': movie.overview,\n",
    "                'director': movie.director,\n",
    "                'star1': movie.star1,\n",
    "                'star2': movie.star2,\n",
    "                'embedding': movie.embedding\n",
    "            })\n",
    "        # Create a DataFrame\n",
    "        df = pd.DataFrame(data)\n",
    "        print(\"Data loaded successfully into DataFrame!\")\n",
    "        return df\n",
    "    except Exception as e:\n",
    "        print(f\"Error loading data: {e}\")\n",
    "        return None\n",
    "\n",
    "# Load the data\n",
    "df = load_data_to_dataframe()\n",
    "if df is not None:\n",
    "    print(df.head())"
   ]
  }
 ],
 "metadata": {
  "language_info": {
   "name": "python"
  }
 },
 "nbformat": 4,
 "nbformat_minor": 5
}
